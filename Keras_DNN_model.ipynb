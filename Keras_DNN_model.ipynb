{
 "cells": [
  {
   "cell_type": "code",
   "execution_count": 8,
   "metadata": {
    "collapsed": false
   },
   "outputs": [],
   "source": [
    "from keras.models import Sequential\n",
    "from keras.layers.core import Dense, Activation\n",
    "from keras.callbacks import Callback\n",
    "from keras.optimizers import SGD\n",
    "\n",
    "import numpy as np"
   ]
  },
  {
   "cell_type": "code",
   "execution_count": 9,
   "metadata": {
    "collapsed": true
   },
   "outputs": [],
   "source": [
    "# Összeállítottam egy nagyon kezdetleges modellt az órán tanultak alapján.\n",
    "# A paraméterket és a háló felépítését innen vettem: \n",
    "# http://www.zhizheng.org/slides/is2015_dnn_adaptation.pdf"
   ]
  },
  {
   "cell_type": "code",
   "execution_count": 12,
   "metadata": {
    "collapsed": false
   },
   "outputs": [],
   "source": [
    "model = Sequential()\n",
    "\n",
    "# A bemenet: 215, kimenet: 26, rejtett retegek szama: 6, fully connected\n",
    "# 1536 neuron egy retegben\n",
    "model.add(Dense(output_dim = 1536, input_dim=215))\n",
    "model.add(Activation(\"tanh\"))\n",
    "\n",
    "for i in range(0, 5):\n",
    "    model.add(Dense(output_dim= 1536, input_dim=1536))\n",
    "    model.add(Activation(\"tanh\"))\n",
    "\n",
    "model.add(Dense(output_dim=26))\n",
    "model.add(Activation(\"tanh\"))\n",
    "\n",
    "# A parametereket az orai pelda alapjan allitottam be\n",
    "model.compile(loss='mean_squared_error', \n",
    "              optimizer= SGD(lr=0.1, momentum=0.001, nesterov=True),\n",
    "              metrics=['accuracy'])"
   ]
  },
  {
   "cell_type": "code",
   "execution_count": null,
   "metadata": {
    "collapsed": true
   },
   "outputs": [],
   "source": []
  }
 ],
 "metadata": {
  "kernelspec": {
   "display_name": "Python 3",
   "language": "python",
   "name": "python3"
  },
  "language_info": {
   "codemirror_mode": {
    "name": "ipython",
    "version": 3
   },
   "file_extension": ".py",
   "mimetype": "text/x-python",
   "name": "python",
   "nbconvert_exporter": "python",
   "pygments_lexer": "ipython3",
   "version": "3.5.2"
  }
 },
 "nbformat": 4,
 "nbformat_minor": 1
}
