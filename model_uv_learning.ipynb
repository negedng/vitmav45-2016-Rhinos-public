{
 "cells": [
  {
   "cell_type": "markdown",
   "metadata": {},
   "source": [
    "# Predict frame is voiced or unvoiced"
   ]
  },
  {
   "cell_type": "code",
   "execution_count": 1,
   "metadata": {
    "collapsed": false
   },
   "outputs": [
    {
     "name": "stderr",
     "output_type": "stream",
     "text": [
      "Using TensorFlow backend.\n"
     ]
    },
    {
     "name": "stdout",
     "output_type": "stream",
     "text": [
      "Populating the interactive namespace from numpy and matplotlib\n"
     ]
    }
   ],
   "source": [
    "import numpy as np\n",
    "import h5py\n",
    "import keras\n",
    "from keras.models import Model, Sequential\n",
    "from keras.layers import Dense, Dropout\n",
    "from keras.optimizers import SGD\n",
    "%pylab inline\n",
    "\n",
    "import matplotlib"
   ]
  },
  {
   "cell_type": "markdown",
   "metadata": {},
   "source": [
    "## Keras model\n",
    "* DNN with relu activation, no dopout layer\n",
    "* 2 output if the frame is voiced 1, 0 else 0, 1"
   ]
  },
  {
   "cell_type": "code",
   "execution_count": 2,
   "metadata": {
    "collapsed": true
   },
   "outputs": [],
   "source": [
    "hidden_layers = 6"
   ]
  },
  {
   "cell_type": "code",
   "execution_count": 3,
   "metadata": {
    "collapsed": false
   },
   "outputs": [
    {
     "name": "stdout",
     "output_type": "stream",
     "text": [
      "____________________________________________________________________________________________________\n",
      "Layer (type)                     Output Shape          Param #     Connected to                     \n",
      "====================================================================================================\n",
      "dense_1 (Dense)                  (None, 512)           110592      dense_input_1[0][0]              \n",
      "____________________________________________________________________________________________________\n",
      "dense_2 (Dense)                  (None, 512)           262656      dense_1[0][0]                    \n",
      "____________________________________________________________________________________________________\n",
      "dense_3 (Dense)                  (None, 512)           262656      dense_2[0][0]                    \n",
      "____________________________________________________________________________________________________\n",
      "dense_4 (Dense)                  (None, 512)           262656      dense_3[0][0]                    \n",
      "____________________________________________________________________________________________________\n",
      "dense_5 (Dense)                  (None, 512)           262656      dense_4[0][0]                    \n",
      "____________________________________________________________________________________________________\n",
      "dense_6 (Dense)                  (None, 512)           262656      dense_5[0][0]                    \n",
      "____________________________________________________________________________________________________\n",
      "dense_7 (Dense)                  (None, 512)           262656      dense_6[0][0]                    \n",
      "____________________________________________________________________________________________________\n",
      "dense_8 (Dense)                  (None, 2)             1026        dense_7[0][0]                    \n",
      "====================================================================================================\n",
      "Total params: 1687554\n",
      "____________________________________________________________________________________________________\n"
     ]
    }
   ],
   "source": [
    "model = Sequential()\n",
    "model.add(Dense(512, input_dim=215, activation='relu'))\n",
    "for i in range(0,hidden_layers):\n",
    "    model.add(Dense(512, activation='relu'))\n",
    "model.add(Dense(2))\n",
    "\n",
    "model.summary()        "
   ]
  },
  {
   "cell_type": "code",
   "execution_count": 4,
   "metadata": {
    "collapsed": false
   },
   "outputs": [],
   "source": [
    "model.compile(optimizer=SGD(lr=0.1), loss='mse', metrics=['accuracy'])"
   ]
  },
  {
   "cell_type": "markdown",
   "metadata": {},
   "source": [
    "prepare training data, targets convert ot 1, 0 and 0, 1 "
   ]
  },
  {
   "cell_type": "code",
   "execution_count": 5,
   "metadata": {
    "collapsed": false
   },
   "outputs": [
    {
     "name": "stdout",
     "output_type": "stream",
     "text": [
      "(216559, 215)\n",
      "(216559, 1)\n"
     ]
    }
   ],
   "source": [
    "data = []\n",
    "with h5py.File('preprocessed_data/train-standardized.h5','r') as hf:\n",
    "    data = np.array(hf.get('dataset'))\n",
    "input_data = data[:,0:215]\n",
    "print(input_data.shape)\n",
    "target_data = data[:,215:216]\n",
    "target_data2 = []\n",
    "for i in range(0,len(target_data)):\n",
    "    if (target_data[i] > 0):\n",
    "        target_data2.append([1,0])\n",
    "    else:\n",
    "        target_data2.append([0,1])\n",
    "print(target_data.shape)"
   ]
  },
  {
   "cell_type": "markdown",
   "metadata": {},
   "source": [
    "Rescale de validation and test inputs similar to the training data"
   ]
  },
  {
   "cell_type": "code",
   "execution_count": 6,
   "metadata": {
    "collapsed": true
   },
   "outputs": [],
   "source": [
    "def fix_input(data, columns, mean, std):\n",
    "    column_av = np.array(mean)\n",
    "    column_std = np.array(std)\n",
    "    a = np.array(data)\n",
    "    new_matrix = (a-column_av[np.newaxis,:])/column_std[np.newaxis,:]\n",
    "    \n",
    "    b = np.array(columns)\n",
    "    ret = (a*(1-b[np.newaxis,:]))+(new_matrix*(b[np.newaxis,:]))\n",
    "    return ret"
   ]
  },
  {
   "cell_type": "code",
   "execution_count": 7,
   "metadata": {
    "collapsed": true
   },
   "outputs": [],
   "source": [
    "mean_ = []\n",
    "with h5py.File('preprocessed_data/train-mean.h5','r') as hf:\n",
    "    mean_ = np.array(hf.get('dataset'))\n",
    "std_ = []\n",
    "with h5py.File('preprocessed_data/train-std.h5','r') as hf:\n",
    "    std_ = np.array(hf.get('dataset'))\n",
    "test = []\n",
    "columns_ = np.zeros((243))\n",
    "for i in range(200,215):\n",
    "    columns_[i] = 1  "
   ]
  },
  {
   "cell_type": "code",
   "execution_count": 8,
   "metadata": {
    "collapsed": false
   },
   "outputs": [
    {
     "name": "stdout",
     "output_type": "stream",
     "text": [
      "(12594, 215)\n"
     ]
    }
   ],
   "source": [
    "data_validation = []\n",
    "with h5py.File('preprocessed_data/validation.h5','r') as hf:\n",
    "    data_validation = np.array(hf.get('dataset'))\n",
    "data_validation = fix_input(data=data_validation, columns=columns_, mean=mean_, std=std_)\n",
    "input_validation = data_validation[:,0:215]\n",
    "print(input_validation.shape)\n",
    "target_validation = data_validation[:,215:216]\n",
    "target_validation2 = []\n",
    "for i in range(0,len(target_validation)):\n",
    "    if (target_validation[i] > 0):\n",
    "        target_validation2.append([1,0])\n",
    "    else:\n",
    "        target_validation2.append([0,1])"
   ]
  },
  {
   "cell_type": "markdown",
   "metadata": {},
   "source": [
    "### Learning, fix 410 epoch\n",
    "(accuracy and loss for the validation data is not correct, but after the train we tested the network with new data"
   ]
  },
  {
   "cell_type": "code",
   "execution_count": 9,
   "metadata": {
    "collapsed": true
   },
   "outputs": [],
   "source": [
    "tensorboard_callback = keras.callbacks.TensorBoard(log_dir='log_uv', histogram_freq=0, write_graph=True, write_images=False)"
   ]
  },
  {
   "cell_type": "code",
   "execution_count": 10,
   "metadata": {
    "collapsed": false,
    "scrolled": false
   },
   "outputs": [
    {
     "data": {
      "text/plain": [
       "<keras.callbacks.History at 0x7efe6aec2cf8>"
      ]
     },
     "execution_count": 10,
     "metadata": {},
     "output_type": "execute_result"
    }
   ],
   "source": [
    "model.fit(input_data, target_data2, nb_epoch=410, batch_size=1024,shuffle=True, verbose=0,\n",
    "              validation_data=(input_validation, target_validation2), callbacks=[tensorboard_callback])"
   ]
  },
  {
   "cell_type": "code",
   "execution_count": 11,
   "metadata": {
    "collapsed": true
   },
   "outputs": [],
   "source": [
    "model.save('models_data/model_uv.h5')\n",
    "model.save_weights('models_data/model_uv_weights.h5')"
   ]
  },
  {
   "cell_type": "markdown",
   "metadata": {},
   "source": [
    "Load test data"
   ]
  },
  {
   "cell_type": "code",
   "execution_count": 12,
   "metadata": {
    "collapsed": false
   },
   "outputs": [],
   "source": [
    "with h5py.File('preprocessed_data/test.h5','r') as hf:\n",
    "    test = np.array(hf.get('dataset')) \n",
    "test = fix_input(data=test, columns=columns_, mean=mean_, std=std_)"
   ]
  },
  {
   "cell_type": "code",
   "execution_count": 13,
   "metadata": {
    "collapsed": true
   },
   "outputs": [],
   "source": [
    "test_input = test[:,0:215]\n",
    "test_target = test[:,215:216]"
   ]
  },
  {
   "cell_type": "code",
   "execution_count": 14,
   "metadata": {
    "collapsed": false
   },
   "outputs": [
    {
     "data": {
      "text/plain": [
       "(12249, 1)"
      ]
     },
     "execution_count": 14,
     "metadata": {},
     "output_type": "execute_result"
    }
   ],
   "source": [
    "test_target.shape"
   ]
  },
  {
   "cell_type": "code",
   "execution_count": 15,
   "metadata": {
    "collapsed": true
   },
   "outputs": [],
   "source": [
    "test_target2 = []\n",
    "for t in test_target:\n",
    "    if (t[0] > 0):\n",
    "        test_target2.append([1,0])\n",
    "    else:\n",
    "        test_target2.append([0,1])"
   ]
  },
  {
   "cell_type": "code",
   "execution_count": 16,
   "metadata": {
    "collapsed": false
   },
   "outputs": [
    {
     "name": "stdout",
     "output_type": "stream",
     "text": [
      "12192/12249 [============================>.] - ETA: 0s"
     ]
    }
   ],
   "source": [
    "evaulate_data = model.evaluate(test_input, test_target2, batch_size=32, verbose=1, sample_weight=None)"
   ]
  },
  {
   "cell_type": "code",
   "execution_count": 20,
   "metadata": {
    "collapsed": false
   },
   "outputs": [
    {
     "data": {
      "text/plain": [
       "[0.15604405248325903, 0.83427218548452931]"
      ]
     },
     "execution_count": 20,
     "metadata": {},
     "output_type": "execute_result"
    }
   ],
   "source": [
    "evaulate_data"
   ]
  },
  {
   "cell_type": "code",
   "execution_count": 21,
   "metadata": {
    "collapsed": false
   },
   "outputs": [],
   "source": [
    "output_test = []\n",
    "for test in test_input[0:2000]:\n",
    "    test = np.array(test)\n",
    "    test = test.reshape(1,215)\n",
    "    output_test.append(model.predict(test))"
   ]
  },
  {
   "cell_type": "markdown",
   "metadata": {},
   "source": [
    "### Test"
   ]
  },
  {
   "cell_type": "code",
   "execution_count": 22,
   "metadata": {
    "collapsed": false
   },
   "outputs": [
    {
     "data": {
      "text/plain": [
       "[<matplotlib.lines.Line2D at 0x7efe8e158550>]"
      ]
     },
     "execution_count": 22,
     "metadata": {},
     "output_type": "execute_result"
    },
    {
     "data": {
      "image/png": "[encoded data removed]",
      "text/plain": [
       "<matplotlib.figure.Figure at 0x7efe65d007f0>"
      ]
     },
     "metadata": {},
     "output_type": "display_data"
    }
   ],
   "source": [
    "for o in output_test:\n",
    "    if o[0][0] > o[0][1]:\n",
    "        o[0][0] = 1\n",
    "    else:\n",
    "        o[0][0] = 0\n",
    "output_test = np.array(output_test[0:300])[:,:,0]\n",
    "output_test.shape\n",
    "output_test = output_test.reshape(len(output_test))\n",
    "\n",
    "plot(output_test)\n",
    "\n",
    "targets = np.array(test_target)[:,0]\n",
    "targets.shape\n",
    "plot(targets[0:300]/100)"
   ]
  },
  {
   "cell_type": "code",
   "execution_count": null,
   "metadata": {
    "collapsed": true
   },
   "outputs": [],
   "source": []
  }
 ],
 "metadata": {
  "kernelspec": {
   "display_name": "Python 3",
   "language": "python",
   "name": "python3"
  },
  "language_info": {
   "codemirror_mode": {
    "name": "ipython",
    "version": 3
   },
   "file_extension": ".py",
   "mimetype": "text/x-python",
   "name": "python",
   "nbconvert_exporter": "python",
   "pygments_lexer": "ipython3",
   "version": "3.4.3"
  }
 },
 "nbformat": 4,
 "nbformat_minor": 1
}
