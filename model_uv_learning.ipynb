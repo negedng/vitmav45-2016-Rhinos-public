{
 "cells": [
  {
   "cell_type": "markdown",
   "metadata": {},
   "source": [
    "# Predict frame is voiced or unvoiced"
   ]
  },
  {
   "cell_type": "code",
   "execution_count": 18,
   "metadata": {
    "collapsed": false
   },
   "outputs": [
    {
     "name": "stdout",
     "output_type": "stream",
     "text": [
      "Populating the interactive namespace from numpy and matplotlib\n"
     ]
    }
   ],
   "source": [
    "import numpy as np\n",
    "import h5py\n",
    "from keras.models import Model, Sequential\n",
    "from keras.layers import Dense, Dropout\n",
    "from keras.optimizers import SGD\n",
    "%pylab inline\n",
    "\n",
    "import matplotlib"
   ]
  },
  {
   "cell_type": "markdown",
   "metadata": {},
   "source": [
    "## Keras model\n",
    "* DNN with relu activation, no dopout layer\n",
    "* 2 output if the frame is voiced 1, 0 else 0, 1"
   ]
  },
  {
   "cell_type": "code",
   "execution_count": 19,
   "metadata": {
    "collapsed": true
   },
   "outputs": [],
   "source": [
    "hidden_layers = 6"
   ]
  },
  {
   "cell_type": "code",
   "execution_count": 20,
   "metadata": {
    "collapsed": false
   },
   "outputs": [
    {
     "name": "stdout",
     "output_type": "stream",
     "text": [
      "____________________________________________________________________________________________________\n",
      "Layer (type)                     Output Shape          Param #     Connected to                     \n",
      "====================================================================================================\n",
      "dense_9 (Dense)                  (None, 512)           110592      dense_input_2[0][0]              \n",
      "____________________________________________________________________________________________________\n",
      "dense_10 (Dense)                 (None, 512)           262656      dense_9[0][0]                    \n",
      "____________________________________________________________________________________________________\n",
      "dense_11 (Dense)                 (None, 512)           262656      dense_10[0][0]                   \n",
      "____________________________________________________________________________________________________\n",
      "dense_12 (Dense)                 (None, 512)           262656      dense_11[0][0]                   \n",
      "____________________________________________________________________________________________________\n",
      "dense_13 (Dense)                 (None, 512)           262656      dense_12[0][0]                   \n",
      "____________________________________________________________________________________________________\n",
      "dense_14 (Dense)                 (None, 512)           262656      dense_13[0][0]                   \n",
      "____________________________________________________________________________________________________\n",
      "dense_15 (Dense)                 (None, 512)           262656      dense_14[0][0]                   \n",
      "____________________________________________________________________________________________________\n",
      "dense_16 (Dense)                 (None, 2)             1026        dense_15[0][0]                   \n",
      "====================================================================================================\n",
      "Total params: 1687554\n",
      "____________________________________________________________________________________________________\n"
     ]
    }
   ],
   "source": [
    "model = Sequential()\n",
    "model.add(Dense(512, input_dim=215, activation='relu'))\n",
    "for i in range(0,hidden_layers):\n",
    "    model.add(Dense(512, activation='relu'))\n",
    "model.add(Dense(2))\n",
    "\n",
    "model.summary()        "
   ]
  },
  {
   "cell_type": "code",
   "execution_count": 21,
   "metadata": {
    "collapsed": false
   },
   "outputs": [],
   "source": [
    "model.compile(optimizer=SGD(lr=0.1), loss='mse', metrics=['accuracy'])"
   ]
  },
  {
   "cell_type": "markdown",
   "metadata": {},
   "source": [
    "prepare training data, targets convert ot 1, 0 and 0, 1 "
   ]
  },
  {
   "cell_type": "code",
   "execution_count": 22,
   "metadata": {
    "collapsed": false
   },
   "outputs": [
    {
     "name": "stdout",
     "output_type": "stream",
     "text": [
      "(216559, 215)\n",
      "(216559, 1)\n"
     ]
    }
   ],
   "source": [
    "data = []\n",
    "with h5py.File('preprocessed_data/train-standardized.h5','r') as hf:\n",
    "    data = np.array(hf.get('dataset'))\n",
    "input_data = data[:,0:215]\n",
    "print(input_data.shape)\n",
    "target_data = data[:,215:216]\n",
    "target_data2 = []\n",
    "for i in range(0,len(target_data)):\n",
    "    if (target_data[i] > 0):\n",
    "        target_data2.append([1,0])\n",
    "    else:\n",
    "        target_data2.append([0,1])\n",
    "print(target_data.shape)"
   ]
  },
  {
   "cell_type": "markdown",
   "metadata": {},
   "source": [
    "Rescale de validation and test inputs similar to the training data"
   ]
  },
  {
   "cell_type": "code",
   "execution_count": 23,
   "metadata": {
    "collapsed": true
   },
   "outputs": [],
   "source": [
    "def fix_input(data, columns, mean, std):\n",
    "    column_av = np.array(mean)\n",
    "    column_std = np.array(std)\n",
    "    a = np.array(data)\n",
    "    new_matrix = (a-column_av[np.newaxis,:])/column_std[np.newaxis,:]\n",
    "    \n",
    "    b = np.array(columns)\n",
    "    ret = (a*(1-b[np.newaxis,:]))+(new_matrix*(b[np.newaxis,:]))\n",
    "    return ret"
   ]
  },
  {
   "cell_type": "code",
   "execution_count": 24,
   "metadata": {
    "collapsed": true
   },
   "outputs": [],
   "source": [
    "mean_ = []\n",
    "with h5py.File('preprocessed_data/train-mean.h5','r') as hf:\n",
    "    mean_ = np.array(hf.get('dataset'))\n",
    "std_ = []\n",
    "with h5py.File('preprocessed_data/train-std.h5','r') as hf:\n",
    "    std_ = np.array(hf.get('dataset'))\n",
    "test = []\n",
    "columns_ = np.zeros((243))\n",
    "for i in range(200,215):\n",
    "    columns_[i] = 1  "
   ]
  },
  {
   "cell_type": "code",
   "execution_count": 25,
   "metadata": {
    "collapsed": false
   },
   "outputs": [
    {
     "name": "stdout",
     "output_type": "stream",
     "text": [
      "(12594, 215)\n"
     ]
    }
   ],
   "source": [
    "data_validation = []\n",
    "with h5py.File('preprocessed_data/validation.h5','r') as hf:\n",
    "    data_validation = np.array(hf.get('dataset'))\n",
    "data_validation = fix_input(data=data_validation, columns=columns_, mean=mean_, std=std_)\n",
    "input_validation = data_validation[:,0:215]\n",
    "print(input_validation.shape)\n",
    "target_validation = data_validation[:,215:216]\n",
    "target_validation2 = []\n",
    "for i in range(0,len(target_validation)):\n",
    "    if (target_data[i] > 0):\n",
    "        target_validation2.append([1,0])\n",
    "    else:\n",
    "        target_validation2.append([0,1])"
   ]
  },
  {
   "cell_type": "markdown",
   "metadata": {},
   "source": [
    "### Learning, fix 410 epoch\n",
    "(accuracy and loss for the validation data is not correct, but after the train we tested the network with new data"
   ]
  },
  {
   "cell_type": "code",
   "execution_count": 32,
   "metadata": {
    "collapsed": false,
    "scrolled": false
   },
   "outputs": [
    {
     "name": "stdout",
     "output_type": "stream",
     "text": [
      "Train on 216559 samples, validate on 12594 samples\n",
      "Epoch 1/1\n",
      "216559/216559 [==============================] - 2s - loss: 0.0319 - acc: 0.9591 - val_loss: 0.4424 - val_acc: 0.5132\n",
      "Train on 216559 samples, validate on 12594 samples\n",
      "Epoch 1/1\n",
      "216559/216559 [==============================] - 2s - loss: 0.0173 - acc: 0.9783 - val_loss: 0.4498 - val_acc: 0.5161\n",
      "Train on 216559 samples, validate on 12594 samples\n",
      "Epoch 1/1\n",
      "216559/216559 [==============================] - 2s - loss: 0.0138 - acc: 0.9825 - val_loss: 0.4571 - val_acc: 0.5143\n",
      "Train on 216559 samples, validate on 12594 samples\n",
      "Epoch 1/1\n",
      "216559/216559 [==============================] - 2s - loss: 0.0096 - acc: 0.9881 - val_loss: 0.4623 - val_acc: 0.5159\n",
      "Train on 216559 samples, validate on 12594 samples\n",
      "Epoch 1/1\n",
      "216559/216559 [==============================] - 2s - loss: 0.0089 - acc: 0.9888 - val_loss: 0.4604 - val_acc: 0.5158\n",
      "Train on 216559 samples, validate on 12594 samples\n",
      "Epoch 1/1\n",
      "216559/216559 [==============================] - 2s - loss: 0.0070 - acc: 0.9910 - val_loss: 0.4629 - val_acc: 0.5200\n",
      "Train on 216559 samples, validate on 12594 samples\n",
      "Epoch 1/1\n",
      "216559/216559 [==============================] - 2s - loss: 0.0049 - acc: 0.9940 - val_loss: 0.4620 - val_acc: 0.5216\n",
      "Train on 216559 samples, validate on 12594 samples\n",
      "Epoch 1/1\n",
      "216559/216559 [==============================] - 2s - loss: 0.0042 - acc: 0.9948 - val_loss: 0.4702 - val_acc: 0.5190\n",
      "Train on 216559 samples, validate on 12594 samples\n",
      "Epoch 1/1\n",
      "216559/216559 [==============================] - 2s - loss: 0.0035 - acc: 0.9957 - val_loss: 0.4586 - val_acc: 0.5228\n",
      "Train on 216559 samples, validate on 12594 samples\n",
      "Epoch 1/1\n",
      "216559/216559 [==============================] - 2s - loss: 0.0033 - acc: 0.9961 - val_loss: 0.4674 - val_acc: 0.5201\n"
     ]
    }
   ],
   "source": [
    "for i in range(0,10):\n",
    "    model.fit(input_data, target_data2, nb_epoch=40, batch_size=1024,shuffle=True, verbose=0,\n",
    "              validation_data=(input_validation, target_validation2))\n",
    "    model.fit(input_data, target_data2, nb_epoch=1, batch_size=1024,shuffle=True, verbose=1,\n",
    "              validation_data=(input_validation, target_validation2))"
   ]
  },
  {
   "cell_type": "code",
   "execution_count": 27,
   "metadata": {
    "collapsed": true
   },
   "outputs": [],
   "source": [
    "model.save('models_data/model_uv.h5')\n",
    "model.save_weights('models_data/model_uv_weights.h5')"
   ]
  },
  {
   "cell_type": "markdown",
   "metadata": {},
   "source": [
    "Load test data"
   ]
  },
  {
   "cell_type": "code",
   "execution_count": 26,
   "metadata": {
    "collapsed": false
   },
   "outputs": [],
   "source": [
    "with h5py.File('preprocessed_data/test.h5','r') as hf:\n",
    "    test = np.array(hf.get('dataset')) \n",
    "test = fix_input(data=test, columns=columns_, mean=mean_, std=std_)"
   ]
  },
  {
   "cell_type": "code",
   "execution_count": 34,
   "metadata": {
    "collapsed": true
   },
   "outputs": [],
   "source": [
    "test_input = test[:,0:215]\n",
    "test_target = test[:,215:216]"
   ]
  },
  {
   "cell_type": "code",
   "execution_count": 38,
   "metadata": {
    "collapsed": false
   },
   "outputs": [],
   "source": [
    "output_test = []\n",
    "for test in test_input[0:2000]:\n",
    "    test = np.array(test)\n",
    "    test = test.reshape(1,215)\n",
    "    output_test.append(model.predict(test))"
   ]
  },
  {
   "cell_type": "markdown",
   "metadata": {},
   "source": [
    "### Test"
   ]
  },
  {
   "cell_type": "code",
   "execution_count": 39,
   "metadata": {
    "collapsed": false
   },
   "outputs": [
    {
     "data": {
      "text/plain": [
       "[<matplotlib.lines.Line2D at 0x7f06253974e0>]"
      ]
     },
     "execution_count": 39,
     "metadata": {},
     "output_type": "execute_result"
    },
    {
     "data": {
      "image/png": "[encoded data removed]",
      "text/plain": [
       "<matplotlib.figure.Figure at 0x7f0625397fd0>"
      ]
     },
     "metadata": {},
     "output_type": "display_data"
    }
   ],
   "source": [
    "for o in output_test:\n",
    "    if o[0][0] > o[0][1]:\n",
    "        o[0][0] = 1\n",
    "    else:\n",
    "        o[0][0] = 0\n",
    "output_test = np.array(output_test[0:300])[:,:,0]\n",
    "output_test.shape\n",
    "output_test = output_test.reshape(len(output_test))\n",
    "\n",
    "plot(output_test)\n",
    "\n",
    "targets = np.array(test_target)[:,0]\n",
    "targets.shape\n",
    "plot(targets[0:300]/100)"
   ]
  },
  {
   "cell_type": "code",
   "execution_count": null,
   "metadata": {
    "collapsed": true
   },
   "outputs": [],
   "source": []
  }
 ],
 "metadata": {
  "kernelspec": {
   "display_name": "Python 3",
   "language": "python",
   "name": "python3"
  },
  "language_info": {
   "codemirror_mode": {
    "name": "ipython",
    "version": 3
   },
   "file_extension": ".py",
   "mimetype": "text/x-python",
   "name": "python",
   "nbconvert_exporter": "python",
   "pygments_lexer": "ipython3",
   "version": "3.5.2"
  }
 },
 "nbformat": 4,
 "nbformat_minor": 1
}
